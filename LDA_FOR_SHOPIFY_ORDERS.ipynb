{
  "cells": [
    {
      "cell_type": "code",
      "execution_count": null,
      "metadata": {
        "id": "etLja6IawopJ"
      },
      "outputs": [],
      "source": [
        "!pip install spacy\n",
        "!python -m spacy download en_core_web_sm\n",
        "!pip install gensim\n",
        "!pip install pyLDAvis"
      ]
    },
    {
      "cell_type": "code",
      "execution_count": null,
      "metadata": {
        "colab": {
          "base_uri": "https://localhost:8080/"
        },
        "id": "wuiJeMIPfUq3",
        "outputId": "d2ffdeb6-9858-4d8a-a02b-946e6a6c1291"
      },
      "outputs": [
        {
          "name": "stderr",
          "output_type": "stream",
          "text": [
            "/usr/local/lib/python3.10/dist-packages/ipykernel/ipkernel.py:283: DeprecationWarning: `should_run_async` will not call `transform_cell` automatically in the future. Please pass the result to `transformed_cell` argument and any exception that happen during thetransform in `preprocessing_exc_tuple` in IPython 7.17 and above.\n",
            "  and should_run_async(code)\n"
          ]
        }
      ],
      "source": [
        "import numpy as np\n",
        "import pandas as pd\n",
        "import matplotlib.pyplot as plt\n",
        "import seaborn as sns\n",
        "import spacy\n",
        "import pandas as pd\n",
        "import gensim\n",
        "from gensim.models import Phrases\n",
        "from gensim.models.phrases import Phraser\n",
        "from gensim import corpora\n",
        "from gensim.models import CoherenceModel\n",
        "import pyLDAvis\n",
        "import pyLDAvis.gensim\n",
        "import matplotlib.pyplot as plt\n",
        "import seaborn as sns\n",
        "%matplotlib inline"
      ]
    },
    {
      "cell_type": "code",
      "execution_count": null,
      "metadata": {
        "colab": {
          "base_uri": "https://localhost:8080/"
        },
        "id": "yNWXQerwfolD",
        "outputId": "f2fb48ef-bf68-4207-d3a3-f81552411628"
      },
      "outputs": [
        {
          "name": "stderr",
          "output_type": "stream",
          "text": [
            "/usr/local/lib/python3.10/dist-packages/ipykernel/ipkernel.py:283: DeprecationWarning: `should_run_async` will not call `transform_cell` automatically in the future. Please pass the result to `transformed_cell` argument and any exception that happen during thetransform in `preprocessing_exc_tuple` in IPython 7.17 and above.\n",
            "  and should_run_async(code)\n"
          ]
        }
      ],
      "source": [
        "df = pd.read_csv('/content/final_df_export.csv')"
      ]
    },
    {
      "cell_type": "code",
      "execution_count": null,
      "metadata": {
        "colab": {
          "base_uri": "https://localhost:8080/"
        },
        "id": "m5r-1_RYfueE",
        "outputId": "d1e2403a-d56f-4712-8746-bd517df08883"
      },
      "outputs": [
        {
          "name": "stderr",
          "output_type": "stream",
          "text": [
            "/usr/local/lib/python3.10/dist-packages/ipykernel/ipkernel.py:283: DeprecationWarning: `should_run_async` will not call `transform_cell` automatically in the future. Please pass the result to `transformed_cell` argument and any exception that happen during thetransform in `preprocessing_exc_tuple` in IPython 7.17 and above.\n",
            "  and should_run_async(code)\n"
          ]
        }
      ],
      "source": [
        "df = df[['combined_review_corrected']]"
      ]
    },
    {
      "cell_type": "code",
      "execution_count": null,
      "metadata": {
        "colab": {
          "base_uri": "https://localhost:8080/",
          "height": 262
        },
        "id": "Zy8wDXqZf1Kl",
        "outputId": "52238684-e49d-4621-a6de-4640900e835c"
      },
      "outputs": [
        {
          "name": "stderr",
          "output_type": "stream",
          "text": [
            "/usr/local/lib/python3.10/dist-packages/ipykernel/ipkernel.py:283: DeprecationWarning: `should_run_async` will not call `transform_cell` automatically in the future. Please pass the result to `transformed_cell` argument and any exception that happen during thetransform in `preprocessing_exc_tuple` in IPython 7.17 and above.\n",
            "  and should_run_async(code)\n"
          ]
        },
        {
          "data": {
            "application/vnd.google.colaboratory.intrinsic+json": {
              "summary": "{\n  \"name\": \"df\",\n  \"rows\": 1059,\n  \"fields\": [\n    {\n      \"column\": \"combined_review_corrected\",\n      \"properties\": {\n        \"dtype\": \"string\",\n        \"num_unique_values\": 1021,\n        \"samples\": [\n          \"favorite product habit products use hair mist spray pump scalp hair every night magic keeps hair smooth soft healthy\",\n          \"want return product small comb according price\",\n          \"try believe experience food family favorite bulk order mom sister use  great problem buster fab product\"\n        ],\n        \"semantic_type\": \"\",\n        \"description\": \"\"\n      }\n    }\n  ]\n}",
              "type": "dataframe",
              "variable_name": "df"
            },
            "text/html": [
              "\n",
              "  <div id=\"df-4ba7dd44-2463-42f0-ab47-25e15a1bc05a\" class=\"colab-df-container\">\n",
              "    <div>\n",
              "<style scoped>\n",
              "    .dataframe tbody tr th:only-of-type {\n",
              "        vertical-align: middle;\n",
              "    }\n",
              "\n",
              "    .dataframe tbody tr th {\n",
              "        vertical-align: top;\n",
              "    }\n",
              "\n",
              "    .dataframe thead th {\n",
              "        text-align: right;\n",
              "    }\n",
              "</style>\n",
              "<table border=\"1\" class=\"dataframe\">\n",
              "  <thead>\n",
              "    <tr style=\"text-align: right;\">\n",
              "      <th></th>\n",
              "      <th>combined_review_corrected</th>\n",
              "    </tr>\n",
              "  </thead>\n",
              "  <tbody>\n",
              "    <tr>\n",
              "      <th>0</th>\n",
              "      <td>effective never thought something could work u...</td>\n",
              "    </tr>\n",
              "    <tr>\n",
              "      <th>1</th>\n",
              "      <td>love malar real sense blends skin make skin su...</td>\n",
              "    </tr>\n",
              "    <tr>\n",
              "      <th>2</th>\n",
              "      <td>amazing packs wow using almost days love nut h...</td>\n",
              "    </tr>\n",
              "    <tr>\n",
              "      <th>3</th>\n",
              "      <td>heavenly smell smells amazing moisturizing gre...</td>\n",
              "    </tr>\n",
              "    <tr>\n",
              "      <th>4</th>\n",
              "      <td>spa like feel lovely face pack quite versatile...</td>\n",
              "    </tr>\n",
              "  </tbody>\n",
              "</table>\n",
              "</div>\n",
              "    <div class=\"colab-df-buttons\">\n",
              "\n",
              "  <div class=\"colab-df-container\">\n",
              "    <button class=\"colab-df-convert\" onclick=\"convertToInteractive('df-4ba7dd44-2463-42f0-ab47-25e15a1bc05a')\"\n",
              "            title=\"Convert this dataframe to an interactive table.\"\n",
              "            style=\"display:none;\">\n",
              "\n",
              "  <svg xmlns=\"http://www.w3.org/2000/svg\" height=\"24px\" viewBox=\"0 -960 960 960\">\n",
              "    <path d=\"M120-120v-720h720v720H120Zm60-500h600v-160H180v160Zm220 220h160v-160H400v160Zm0 220h160v-160H400v160ZM180-400h160v-160H180v160Zm440 0h160v-160H620v160ZM180-180h160v-160H180v160Zm440 0h160v-160H620v160Z\"/>\n",
              "  </svg>\n",
              "    </button>\n",
              "\n",
              "  <style>\n",
              "    .colab-df-container {\n",
              "      display:flex;\n",
              "      gap: 12px;\n",
              "    }\n",
              "\n",
              "    .colab-df-convert {\n",
              "      background-color: #E8F0FE;\n",
              "      border: none;\n",
              "      border-radius: 50%;\n",
              "      cursor: pointer;\n",
              "      display: none;\n",
              "      fill: #1967D2;\n",
              "      height: 32px;\n",
              "      padding: 0 0 0 0;\n",
              "      width: 32px;\n",
              "    }\n",
              "\n",
              "    .colab-df-convert:hover {\n",
              "      background-color: #E2EBFA;\n",
              "      box-shadow: 0px 1px 2px rgba(60, 64, 67, 0.3), 0px 1px 3px 1px rgba(60, 64, 67, 0.15);\n",
              "      fill: #174EA6;\n",
              "    }\n",
              "\n",
              "    .colab-df-buttons div {\n",
              "      margin-bottom: 4px;\n",
              "    }\n",
              "\n",
              "    [theme=dark] .colab-df-convert {\n",
              "      background-color: #3B4455;\n",
              "      fill: #D2E3FC;\n",
              "    }\n",
              "\n",
              "    [theme=dark] .colab-df-convert:hover {\n",
              "      background-color: #434B5C;\n",
              "      box-shadow: 0px 1px 3px 1px rgba(0, 0, 0, 0.15);\n",
              "      filter: drop-shadow(0px 1px 2px rgba(0, 0, 0, 0.3));\n",
              "      fill: #FFFFFF;\n",
              "    }\n",
              "  </style>\n",
              "\n",
              "    <script>\n",
              "      const buttonEl =\n",
              "        document.querySelector('#df-4ba7dd44-2463-42f0-ab47-25e15a1bc05a button.colab-df-convert');\n",
              "      buttonEl.style.display =\n",
              "        google.colab.kernel.accessAllowed ? 'block' : 'none';\n",
              "\n",
              "      async function convertToInteractive(key) {\n",
              "        const element = document.querySelector('#df-4ba7dd44-2463-42f0-ab47-25e15a1bc05a');\n",
              "        const dataTable =\n",
              "          await google.colab.kernel.invokeFunction('convertToInteractive',\n",
              "                                                    [key], {});\n",
              "        if (!dataTable) return;\n",
              "\n",
              "        const docLinkHtml = 'Like what you see? Visit the ' +\n",
              "          '<a target=\"_blank\" href=https://colab.research.google.com/notebooks/data_table.ipynb>data table notebook</a>'\n",
              "          + ' to learn more about interactive tables.';\n",
              "        element.innerHTML = '';\n",
              "        dataTable['output_type'] = 'display_data';\n",
              "        await google.colab.output.renderOutput(dataTable, element);\n",
              "        const docLink = document.createElement('div');\n",
              "        docLink.innerHTML = docLinkHtml;\n",
              "        element.appendChild(docLink);\n",
              "      }\n",
              "    </script>\n",
              "  </div>\n",
              "\n",
              "\n",
              "<div id=\"df-f6bfc52d-459a-4de5-a041-4e84fe1aa453\">\n",
              "  <button class=\"colab-df-quickchart\" onclick=\"quickchart('df-f6bfc52d-459a-4de5-a041-4e84fe1aa453')\"\n",
              "            title=\"Suggest charts\"\n",
              "            style=\"display:none;\">\n",
              "\n",
              "<svg xmlns=\"http://www.w3.org/2000/svg\" height=\"24px\"viewBox=\"0 0 24 24\"\n",
              "     width=\"24px\">\n",
              "    <g>\n",
              "        <path d=\"M19 3H5c-1.1 0-2 .9-2 2v14c0 1.1.9 2 2 2h14c1.1 0 2-.9 2-2V5c0-1.1-.9-2-2-2zM9 17H7v-7h2v7zm4 0h-2V7h2v10zm4 0h-2v-4h2v4z\"/>\n",
              "    </g>\n",
              "</svg>\n",
              "  </button>\n",
              "\n",
              "<style>\n",
              "  .colab-df-quickchart {\n",
              "      --bg-color: #E8F0FE;\n",
              "      --fill-color: #1967D2;\n",
              "      --hover-bg-color: #E2EBFA;\n",
              "      --hover-fill-color: #174EA6;\n",
              "      --disabled-fill-color: #AAA;\n",
              "      --disabled-bg-color: #DDD;\n",
              "  }\n",
              "\n",
              "  [theme=dark] .colab-df-quickchart {\n",
              "      --bg-color: #3B4455;\n",
              "      --fill-color: #D2E3FC;\n",
              "      --hover-bg-color: #434B5C;\n",
              "      --hover-fill-color: #FFFFFF;\n",
              "      --disabled-bg-color: #3B4455;\n",
              "      --disabled-fill-color: #666;\n",
              "  }\n",
              "\n",
              "  .colab-df-quickchart {\n",
              "    background-color: var(--bg-color);\n",
              "    border: none;\n",
              "    border-radius: 50%;\n",
              "    cursor: pointer;\n",
              "    display: none;\n",
              "    fill: var(--fill-color);\n",
              "    height: 32px;\n",
              "    padding: 0;\n",
              "    width: 32px;\n",
              "  }\n",
              "\n",
              "  .colab-df-quickchart:hover {\n",
              "    background-color: var(--hover-bg-color);\n",
              "    box-shadow: 0 1px 2px rgba(60, 64, 67, 0.3), 0 1px 3px 1px rgba(60, 64, 67, 0.15);\n",
              "    fill: var(--button-hover-fill-color);\n",
              "  }\n",
              "\n",
              "  .colab-df-quickchart-complete:disabled,\n",
              "  .colab-df-quickchart-complete:disabled:hover {\n",
              "    background-color: var(--disabled-bg-color);\n",
              "    fill: var(--disabled-fill-color);\n",
              "    box-shadow: none;\n",
              "  }\n",
              "\n",
              "  .colab-df-spinner {\n",
              "    border: 2px solid var(--fill-color);\n",
              "    border-color: transparent;\n",
              "    border-bottom-color: var(--fill-color);\n",
              "    animation:\n",
              "      spin 1s steps(1) infinite;\n",
              "  }\n",
              "\n",
              "  @keyframes spin {\n",
              "    0% {\n",
              "      border-color: transparent;\n",
              "      border-bottom-color: var(--fill-color);\n",
              "      border-left-color: var(--fill-color);\n",
              "    }\n",
              "    20% {\n",
              "      border-color: transparent;\n",
              "      border-left-color: var(--fill-color);\n",
              "      border-top-color: var(--fill-color);\n",
              "    }\n",
              "    30% {\n",
              "      border-color: transparent;\n",
              "      border-left-color: var(--fill-color);\n",
              "      border-top-color: var(--fill-color);\n",
              "      border-right-color: var(--fill-color);\n",
              "    }\n",
              "    40% {\n",
              "      border-color: transparent;\n",
              "      border-right-color: var(--fill-color);\n",
              "      border-top-color: var(--fill-color);\n",
              "    }\n",
              "    60% {\n",
              "      border-color: transparent;\n",
              "      border-right-color: var(--fill-color);\n",
              "    }\n",
              "    80% {\n",
              "      border-color: transparent;\n",
              "      border-right-color: var(--fill-color);\n",
              "      border-bottom-color: var(--fill-color);\n",
              "    }\n",
              "    90% {\n",
              "      border-color: transparent;\n",
              "      border-bottom-color: var(--fill-color);\n",
              "    }\n",
              "  }\n",
              "</style>\n",
              "\n",
              "  <script>\n",
              "    async function quickchart(key) {\n",
              "      const quickchartButtonEl =\n",
              "        document.querySelector('#' + key + ' button');\n",
              "      quickchartButtonEl.disabled = true;  // To prevent multiple clicks.\n",
              "      quickchartButtonEl.classList.add('colab-df-spinner');\n",
              "      try {\n",
              "        const charts = await google.colab.kernel.invokeFunction(\n",
              "            'suggestCharts', [key], {});\n",
              "      } catch (error) {\n",
              "        console.error('Error during call to suggestCharts:', error);\n",
              "      }\n",
              "      quickchartButtonEl.classList.remove('colab-df-spinner');\n",
              "      quickchartButtonEl.classList.add('colab-df-quickchart-complete');\n",
              "    }\n",
              "    (() => {\n",
              "      let quickchartButtonEl =\n",
              "        document.querySelector('#df-f6bfc52d-459a-4de5-a041-4e84fe1aa453 button');\n",
              "      quickchartButtonEl.style.display =\n",
              "        google.colab.kernel.accessAllowed ? 'block' : 'none';\n",
              "    })();\n",
              "  </script>\n",
              "</div>\n",
              "\n",
              "    </div>\n",
              "  </div>\n"
            ],
            "text/plain": [
              "                           combined_review_corrected\n",
              "0  effective never thought something could work u...\n",
              "1  love malar real sense blends skin make skin su...\n",
              "2  amazing packs wow using almost days love nut h...\n",
              "3  heavenly smell smells amazing moisturizing gre...\n",
              "4  spa like feel lovely face pack quite versatile..."
            ]
          },
          "execution_count": 38,
          "metadata": {},
          "output_type": "execute_result"
        }
      ],
      "source": [
        "df.head()"
      ]
    },
    {
      "cell_type": "code",
      "execution_count": null,
      "metadata": {
        "colab": {
          "base_uri": "https://localhost:8080/"
        },
        "id": "SIMw4xUXgWg3",
        "outputId": "8bcd8363-8cc7-4f95-82af-0ee247ebb415"
      },
      "outputs": [
        {
          "name": "stdout",
          "output_type": "stream",
          "text": [
            "<class 'pandas.core.frame.DataFrame'>\n",
            "RangeIndex: 1059 entries, 0 to 1058\n",
            "Data columns (total 1 columns):\n",
            " #   Column                     Non-Null Count  Dtype \n",
            "---  ------                     --------------  ----- \n",
            " 0   combined_review_corrected  1050 non-null   object\n",
            "dtypes: object(1)\n",
            "memory usage: 8.4+ KB\n"
          ]
        },
        {
          "name": "stderr",
          "output_type": "stream",
          "text": [
            "/usr/local/lib/python3.10/dist-packages/ipykernel/ipkernel.py:283: DeprecationWarning: `should_run_async` will not call `transform_cell` automatically in the future. Please pass the result to `transformed_cell` argument and any exception that happen during thetransform in `preprocessing_exc_tuple` in IPython 7.17 and above.\n",
            "  and should_run_async(code)\n"
          ]
        }
      ],
      "source": [
        "df.info()"
      ]
    },
    {
      "cell_type": "markdown",
      "metadata": {
        "id": "GU-m9-iIkbmw"
      },
      "source": [
        "### creating bag of words"
      ]
    },
    {
      "cell_type": "markdown",
      "metadata": {
        "id": "Zso7vxpKmcaS"
      },
      "source": [
        "### Bow using gensim"
      ]
    },
    {
      "cell_type": "code",
      "execution_count": null,
      "metadata": {
        "id": "dKkKCaRIR2ES"
      },
      "outputs": [],
      "source": [
        "for x in df['combined_review_corrected']:\n",
        "  print(x)"
      ]
    },
    {
      "cell_type": "code",
      "execution_count": null,
      "metadata": {
        "colab": {
          "base_uri": "https://localhost:8080/"
        },
        "id": "zoEeridgmfz9",
        "outputId": "38bf7fec-dff1-482c-dd9c-8d46f74a3bc6"
      },
      "outputs": [
        {
          "name": "stderr",
          "output_type": "stream",
          "text": [
            "/usr/local/lib/python3.10/dist-packages/ipykernel/ipkernel.py:283: DeprecationWarning: `should_run_async` will not call `transform_cell` automatically in the future. Please pass the result to `transformed_cell` argument and any exception that happen during thetransform in `preprocessing_exc_tuple` in IPython 7.17 and above.\n",
            "  and should_run_async(code)\n"
          ]
        }
      ],
      "source": [
        "# Convert non-string values to empty strings\n",
        "df['combined_review_corrected'] = df['combined_review_corrected'].astype(str)\n",
        "\n",
        "# Tokenize the text data\n",
        "words_sent = [x.split() for x in df['combined_review_corrected']]\n",
        "\n",
        "# Create bigram and trigram models\n",
        "bigram = Phrases(words_sent, min_count=2, threshold=100)\n",
        "trigram = Phrases(bigram[words_sent], threshold=100)\n",
        "\n",
        "# Create Phraser for efficiency\n",
        "bigram_phraser = Phraser(bigram)\n",
        "trigram_phraser = Phraser(trigram)\n",
        "\n",
        "# Apply trigram models\n",
        "bow = [trigram_phraser[bigram_phraser[sentence]] for sentence in words_sent]"
      ]
    },
    {
      "cell_type": "code",
      "execution_count": null,
      "metadata": {
        "colab": {
          "base_uri": "https://localhost:8080/"
        },
        "id": "pLUqOxybpdrR",
        "outputId": "f13cadf5-a199-43df-b403-9dcc7816817d"
      },
      "outputs": [
        {
          "name": "stderr",
          "output_type": "stream",
          "text": [
            "/usr/local/lib/python3.10/dist-packages/ipykernel/ipkernel.py:283: DeprecationWarning: `should_run_async` will not call `transform_cell` automatically in the future. Please pass the result to `transformed_cell` argument and any exception that happen during thetransform in `preprocessing_exc_tuple` in IPython 7.17 and above.\n",
            "  and should_run_async(code)\n"
          ]
        },
        {
          "data": {
            "text/plain": [
              "1059"
            ]
          },
          "execution_count": 42,
          "metadata": {},
          "output_type": "execute_result"
        }
      ],
      "source": [
        "len(bow)"
      ]
    },
    {
      "cell_type": "markdown",
      "metadata": {
        "id": "RK1V_28Dp5HS"
      },
      "source": [
        "### Apply pos tagging"
      ]
    },
    {
      "cell_type": "code",
      "execution_count": null,
      "metadata": {
        "colab": {
          "base_uri": "https://localhost:8080/"
        },
        "id": "-piFCmK0peRp",
        "outputId": "353ae24e-272a-46ed-9988-751f13781fcb"
      },
      "outputs": [
        {
          "name": "stderr",
          "output_type": "stream",
          "text": [
            "/usr/local/lib/python3.10/dist-packages/ipykernel/ipkernel.py:283: DeprecationWarning: `should_run_async` will not call `transform_cell` automatically in the future. Please pass the result to `transformed_cell` argument and any exception that happen during thetransform in `preprocessing_exc_tuple` in IPython 7.17 and above.\n",
            "  and should_run_async(code)\n"
          ]
        }
      ],
      "source": [
        "### lemmatisation by using spacy and pos tagging\n",
        "nlp = spacy.load('en_core_web_sm', disable=['parser', 'ner']) # disabing the parse and ner from pipeline it increase speed of pipeline"
      ]
    },
    {
      "cell_type": "code",
      "execution_count": null,
      "metadata": {
        "colab": {
          "base_uri": "https://localhost:8080/"
        },
        "id": "4eBgkKSoqBx4",
        "outputId": "fe3c7726-a223-4daf-feb0-df00b799aad2"
      },
      "outputs": [
        {
          "name": "stdout",
          "output_type": "stream",
          "text": [
            "but => CCONJ\n",
            "hiya => PROPN\n",
            "quality => NOUN\n",
            "debate => NOUN\n",
            "hue => NOUN\n",
            "costly => ADJ\n"
          ]
        },
        {
          "name": "stderr",
          "output_type": "stream",
          "text": [
            "/usr/local/lib/python3.10/dist-packages/ipykernel/ipkernel.py:283: DeprecationWarning: `should_run_async` will not call `transform_cell` automatically in the future. Please pass the result to `transformed_cell` argument and any exception that happen during thetransform in `preprocessing_exc_tuple` in IPython 7.17 and above.\n",
            "  and should_run_async(code)\n"
          ]
        }
      ],
      "source": [
        "#examining\n",
        "doc = nlp(' '.join(bow[870]))\n",
        "for token in doc:\n",
        "    print(token ,'=>', token.pos_)"
      ]
    },
    {
      "cell_type": "code",
      "execution_count": null,
      "metadata": {
        "colab": {
          "base_uri": "https://localhost:8080/"
        },
        "id": "nL6b8gcxqp94",
        "outputId": "20275525-e60b-4dd7-b9f9-348440ac1de5"
      },
      "outputs": [
        {
          "name": "stderr",
          "output_type": "stream",
          "text": [
            "/usr/local/lib/python3.10/dist-packages/ipykernel/ipkernel.py:283: DeprecationWarning: `should_run_async` will not call `transform_cell` automatically in the future. Please pass the result to `transformed_cell` argument and any exception that happen during thetransform in `preprocessing_exc_tuple` in IPython 7.17 and above.\n",
            "  and should_run_async(code)\n"
          ]
        }
      ],
      "source": [
        "# now lemmatising the whole corpus so that we can reach to the root words\n",
        "def lemmatization(texts, tags=['NOUN','ADJ', 'VERB', 'ADV','PROPN']): # filter noun and adjective\n",
        "    \"\"\"https://spacy.io/api/annotation\"\"\"\n",
        "    texts_out = []\n",
        "    for sent in texts:\n",
        "        doc = nlp(\" \".join(sent))\n",
        "        texts_out.append([token.lemma_ for token in doc if token.pos_ in tags])\n",
        "    return texts_out"
      ]
    },
    {
      "cell_type": "code",
      "execution_count": null,
      "metadata": {
        "colab": {
          "base_uri": "https://localhost:8080/"
        },
        "id": "eIpqzWvurF2_",
        "outputId": "811d9a37-3bbe-4345-c853-6f4a9e15e9d5"
      },
      "outputs": [
        {
          "name": "stderr",
          "output_type": "stream",
          "text": [
            "/usr/local/lib/python3.10/dist-packages/ipykernel/ipkernel.py:283: DeprecationWarning: `should_run_async` will not call `transform_cell` automatically in the future. Please pass the result to `transformed_cell` argument and any exception that happen during thetransform in `preprocessing_exc_tuple` in IPython 7.17 and above.\n",
            "  and should_run_async(code)\n"
          ]
        }
      ],
      "source": [
        "bag_of_words = lemmatization(bow)"
      ]
    },
    {
      "cell_type": "code",
      "execution_count": null,
      "metadata": {
        "colab": {
          "base_uri": "https://localhost:8080/"
        },
        "id": "zT24_uMXrIsY",
        "outputId": "ef088720-77f7-411f-af65-e212df6ee1a5"
      },
      "outputs": [
        {
          "name": "stderr",
          "output_type": "stream",
          "text": [
            "/usr/local/lib/python3.10/dist-packages/ipykernel/ipkernel.py:283: DeprecationWarning: `should_run_async` will not call `transform_cell` automatically in the future. Please pass the result to `transformed_cell` argument and any exception that happen during thetransform in `preprocessing_exc_tuple` in IPython 7.17 and above.\n",
            "  and should_run_async(code)\n"
          ]
        },
        {
          "data": {
            "text/plain": [
              "['budget', 'soft', 'skin']"
            ]
          },
          "execution_count": 47,
          "metadata": {},
          "output_type": "execute_result"
        }
      ],
      "source": [
        "bag_of_words[30]"
      ]
    },
    {
      "cell_type": "markdown",
      "metadata": {
        "id": "EojxRbERro2R"
      },
      "source": []
    },
    {
      "cell_type": "code",
      "execution_count": null,
      "metadata": {
        "colab": {
          "base_uri": "https://localhost:8080/"
        },
        "id": "zvGNez2TrP23",
        "outputId": "8ccb4778-a7b7-4f86-b9c8-22a8268613da"
      },
      "outputs": [
        {
          "name": "stderr",
          "output_type": "stream",
          "text": [
            "/usr/local/lib/python3.10/dist-packages/ipykernel/ipkernel.py:283: DeprecationWarning: `should_run_async` will not call `transform_cell` automatically in the future. Please pass the result to `transformed_cell` argument and any exception that happen during thetransform in `preprocessing_exc_tuple` in IPython 7.17 and above.\n",
            "  and should_run_async(code)\n"
          ]
        }
      ],
      "source": [
        "id2word = corpora.Dictionary(bag_of_words)"
      ]
    },
    {
      "cell_type": "code",
      "execution_count": null,
      "metadata": {
        "colab": {
          "base_uri": "https://localhost:8080/"
        },
        "id": "PQdvBrIxruEM",
        "outputId": "a8d02e1c-8811-4a1a-9fe4-4d4540c178f8"
      },
      "outputs": [
        {
          "name": "stdout",
          "output_type": "stream",
          "text": [
            "Dictionary<2107 unique tokens: ['effective', 'happy', 'never', 'product', 'result']...>\n"
          ]
        },
        {
          "name": "stderr",
          "output_type": "stream",
          "text": [
            "/usr/local/lib/python3.10/dist-packages/ipykernel/ipkernel.py:283: DeprecationWarning: `should_run_async` will not call `transform_cell` automatically in the future. Please pass the result to `transformed_cell` argument and any exception that happen during thetransform in `preprocessing_exc_tuple` in IPython 7.17 and above.\n",
            "  and should_run_async(code)\n"
          ]
        }
      ],
      "source": [
        "print(id2word)"
      ]
    },
    {
      "cell_type": "code",
      "execution_count": null,
      "metadata": {
        "colab": {
          "base_uri": "https://localhost:8080/"
        },
        "id": "wNm7ehH7rvpL",
        "outputId": "b02c5cec-9c34-40d7-8358-2e615d1ea62d"
      },
      "outputs": [
        {
          "name": "stderr",
          "output_type": "stream",
          "text": [
            "/usr/local/lib/python3.10/dist-packages/ipykernel/ipkernel.py:283: DeprecationWarning: `should_run_async` will not call `transform_cell` automatically in the future. Please pass the result to `transformed_cell` argument and any exception that happen during thetransform in `preprocessing_exc_tuple` in IPython 7.17 and above.\n",
            "  and should_run_async(code)\n"
          ]
        }
      ],
      "source": [
        "#  now lets create a encoded bag of words\n",
        "corpus_matrix = [id2word.doc2bow(sent) for sent in bag_of_words]"
      ]
    },
    {
      "cell_type": "code",
      "execution_count": null,
      "metadata": {
        "colab": {
          "base_uri": "https://localhost:8080/"
        },
        "id": "NqYUWcVgsIrS",
        "outputId": "ad1b09e8-348d-42ef-9ff1-223e3b01db65"
      },
      "outputs": [
        {
          "name": "stderr",
          "output_type": "stream",
          "text": [
            "/usr/local/lib/python3.10/dist-packages/ipykernel/ipkernel.py:283: DeprecationWarning: `should_run_async` will not call `transform_cell` automatically in the future. Please pass the result to `transformed_cell` argument and any exception that happen during thetransform in `preprocessing_exc_tuple` in IPython 7.17 and above.\n",
            "  and should_run_async(code)\n"
          ]
        },
        {
          "data": {
            "text/plain": [
              "[(18, 1), (256, 1), (257, 1)]"
            ]
          },
          "execution_count": 51,
          "metadata": {},
          "output_type": "execute_result"
        }
      ],
      "source": [
        "corpus_matrix[30]"
      ]
    },
    {
      "cell_type": "markdown",
      "metadata": {
        "id": "N-nVb__wss6L"
      },
      "source": [
        "### Find the optimal number of topics:"
      ]
    },
    {
      "cell_type": "code",
      "execution_count": null,
      "metadata": {
        "colab": {
          "base_uri": "https://localhost:8080/"
        },
        "id": "i75IUGAYth_2",
        "outputId": "e9913652-254d-4e0e-b449-3eaff4e9a0a4"
      },
      "outputs": [
        {
          "name": "stderr",
          "output_type": "stream",
          "text": [
            "/usr/local/lib/python3.10/dist-packages/ipykernel/ipkernel.py:283: DeprecationWarning: `should_run_async` will not call `transform_cell` automatically in the future. Please pass the result to `transformed_cell` argument and any exception that happen during thetransform in `preprocessing_exc_tuple` in IPython 7.17 and above.\n",
            "  and should_run_async(code)\n"
          ]
        }
      ],
      "source": [
        "LDA = gensim.models.ldamodel.LdaModel"
      ]
    },
    {
      "cell_type": "code",
      "execution_count": null,
      "metadata": {
        "colab": {
          "base_uri": "https://localhost:8080/"
        },
        "id": "wz9057UPsYz8",
        "outputId": "1911ef50-f29e-4998-b72e-0116cab69ee4"
      },
      "outputs": [
        {
          "name": "stderr",
          "output_type": "stream",
          "text": [
            "/usr/local/lib/python3.10/dist-packages/ipykernel/ipkernel.py:283: DeprecationWarning: `should_run_async` will not call `transform_cell` automatically in the future. Please pass the result to `transformed_cell` argument and any exception that happen during thetransform in `preprocessing_exc_tuple` in IPython 7.17 and above.\n",
            "  and should_run_async(code)\n"
          ]
        }
      ],
      "source": [
        "def compute_coherence_values(dictionary, corpus, texts, limit, start=2, step=1):\n",
        "    \"\"\"\n",
        "    Compute c_v coherence for various number of topics\n",
        "\n",
        "    Parameters:\n",
        "    ----------\n",
        "    dictionary : Gensim dictionary\n",
        "    corpus : Gensim corpus\n",
        "    texts : List of input texts\n",
        "    limit : Max num of topics\n",
        "\n",
        "    Returns:\n",
        "    -------\n",
        "    model_list : List of LDA topic models\n",
        "    coherence_values : Coherence values corresponding to the LDA model with respective number of topics\n",
        "    \"\"\"\n",
        "    coherence_values = []\n",
        "    model_list = []\n",
        "    for num_topics in range(start, limit, step):\n",
        "        model = LDA(corpus=corpus, num_topics=num_topics, id2word=dictionary, passes=20, iterations=3000, alpha='auto', eta='auto')\n",
        "        model_list.append(model)\n",
        "        coherencemodel = CoherenceModel(model=model, texts=texts, dictionary=dictionary, coherence='c_v')\n",
        "        coherence_values.append(coherencemodel.get_coherence())\n",
        "\n",
        "    return model_list, coherence_values"
      ]
    },
    {
      "cell_type": "code",
      "execution_count": null,
      "metadata": {
        "colab": {
          "background_save": true,
          "base_uri": "https://localhost:8080/"
        },
        "id": "N45e2AjYtGgZ",
        "outputId": "e011167d-2905-42ab-e9a1-0103d8529f55"
      },
      "outputs": [
        {
          "name": "stderr",
          "output_type": "stream",
          "text": [
            "/usr/local/lib/python3.10/dist-packages/ipykernel/ipkernel.py:283: DeprecationWarning: `should_run_async` will not call `transform_cell` automatically in the future. Please pass the result to `transformed_cell` argument and any exception that happen during thetransform in `preprocessing_exc_tuple` in IPython 7.17 and above.\n",
            "  and should_run_async(code)\n"
          ]
        }
      ],
      "source": [
        "# it can take time so be patience\n",
        "model_list, coherence_values = compute_coherence_values(dictionary=id2word, corpus=corpus_matrix, texts=bag_of_words, start=2, limit=50, step=3)"
      ]
    },
    {
      "cell_type": "code",
      "execution_count": null,
      "metadata": {
        "colab": {
          "background_save": true
        },
        "id": "kvmJ4lqetMoc",
        "outputId": "6954a29f-9fff-4817-c859-de08fc56a427"
      },
      "outputs": [
        {
          "name": "stderr",
          "output_type": "stream",
          "text": [
            "/usr/local/lib/python3.10/dist-packages/ipykernel/ipkernel.py:283: DeprecationWarning: `should_run_async` will not call `transform_cell` automatically in the future. Please pass the result to `transformed_cell` argument and any exception that happen during thetransform in `preprocessing_exc_tuple` in IPython 7.17 and above.\n",
            "  and should_run_async(code)\n"
          ]
        },
        {
          "data": {
            "image/png": "[encoded data removed]",
            "text/plain": [
              "<Figure size 640x480 with 1 Axes>"
            ]
          },
          "metadata": {},
          "output_type": "display_data"
        }
      ],
      "source": [
        "# Show graph\n",
        "limit=50; start=2; step=3;\n",
        "x = range(start, limit, step)\n",
        "plt.plot(x, coherence_values)\n",
        "plt.xlabel(\"Num Topics\")\n",
        "plt.ylabel(\"Coherence score\")\n",
        "plt.legend((\"coherence_values\"), loc='best')\n",
        "plt.show()"
      ]
    },
    {
      "cell_type": "code",
      "execution_count": null,
      "metadata": {
        "colab": {
          "background_save": true
        },
        "id": "18bZFa1TvW25",
        "outputId": "1827d3ac-0df4-4a16-f49a-254cb97dfba8"
      },
      "outputs": [
        {
          "name": "stderr",
          "output_type": "stream",
          "text": [
            "/usr/local/lib/python3.10/dist-packages/ipykernel/ipkernel.py:283: DeprecationWarning: `should_run_async` will not call `transform_cell` automatically in the future. Please pass the result to `transformed_cell` argument and any exception that happen during thetransform in `preprocessing_exc_tuple` in IPython 7.17 and above.\n",
            "  and should_run_async(code)\n"
          ]
        }
      ],
      "source": [
        "# Creating the object for LDA model using gensim library\n",
        "import gensim\n",
        "LDA = gensim.models.ldamodel.LdaModel\n",
        "\n",
        "# Build LDA model\n",
        "lda_model = LDA(corpus=corpus_matrix,\n",
        "                id2word=id2word,\n",
        "                num_topics=6,\n",
        "                update_every=1,\n",
        "                chunksize=100,\n",
        "                passes=20,\n",
        "                alpha='auto',\n",
        "                per_word_topics=True)"
      ]
    },
    {
      "cell_type": "code",
      "execution_count": null,
      "metadata": {
        "colab": {
          "background_save": true
        },
        "id": "zQh-xd0mwFuJ"
      },
      "outputs": [],
      "source": [
        "lda_model.print_topics()"
      ]
    },
    {
      "cell_type": "code",
      "execution_count": null,
      "metadata": {
        "colab": {
          "background_save": true
        },
        "id": "mXGPSm-2wJ3O",
        "outputId": "1fcaea44-4c23-45bf-c005-c48f6dbe1170"
      },
      "outputs": [
        {
          "name": "stderr",
          "output_type": "stream",
          "text": [
            "/usr/local/lib/python3.10/dist-packages/ipykernel/ipkernel.py:283: DeprecationWarning: `should_run_async` will not call `transform_cell` automatically in the future. Please pass the result to `transformed_cell` argument and any exception that happen during thetransform in `preprocessing_exc_tuple` in IPython 7.17 and above.\n",
            "  and should_run_async(code)\n"
          ]
        },
        {
          "name": "stdout",
          "output_type": "stream",
          "text": [
            "\n",
            "Perplexity:  -6.567298856892959\n",
            "\n",
            "Coherence Score:  0.4534137011408485\n"
          ]
        }
      ],
      "source": [
        "# Compute Perplexity\n",
        "print('\\nPerplexity: ', lda_model.log_perplexity(corpus_matrix))\n",
        "# a measure of how good the model is. lower the better.\n",
        "\n",
        "# Compute Coherence Score\n",
        "from gensim.models import CoherenceModel\n",
        "coherence_model_lda = CoherenceModel(model=lda_model, texts=bag_of_words, dictionary=id2word, coherence='c_v')\n",
        "coherence_lda = coherence_model_lda.get_coherence()\n",
        "print('\\nCoherence Score: ', coherence_lda)"
      ]
    },
    {
      "cell_type": "code",
      "execution_count": null,
      "metadata": {
        "colab": {
          "background_save": true
        },
        "id": "FqzTdQxDwOdr",
        "outputId": "22242e03-c16c-40e1-d1a2-38ce051b61f4"
      },
      "outputs": [
        {
          "name": "stderr",
          "output_type": "stream",
          "text": [
            "/usr/local/lib/python3.10/dist-packages/ipykernel/ipkernel.py:283: DeprecationWarning: `should_run_async` will not call `transform_cell` automatically in the future. Please pass the result to `transformed_cell` argument and any exception that happen during thetransform in `preprocessing_exc_tuple` in IPython 7.17 and above.\n",
            "  and should_run_async(code)\n"
          ]
        }
      ],
      "source": [
        "pyLDAvis.enable_notebook()\n",
        "vis2 = pyLDAvis.gensim.prepare(lda_model, corpus = corpus_matrix, dictionary = id2word)"
      ]
    },
    {
      "cell_type": "code",
      "execution_count": null,
      "metadata": {
        "colab": {
          "background_save": true
        },
        "id": "RvEhzWX4wXAC",
        "outputId": "781b330f-5b8a-4a65-e7b2-b44fa1b99fe8"
      },
      "outputs": [
        {
          "name": "stderr",
          "output_type": "stream",
          "text": [
            "/usr/local/lib/python3.10/dist-packages/ipykernel/ipkernel.py:283: DeprecationWarning: `should_run_async` will not call `transform_cell` automatically in the future. Please pass the result to `transformed_cell` argument and any exception that happen during thetransform in `preprocessing_exc_tuple` in IPython 7.17 and above.\n",
            "  and should_run_async(code)\n"
          ]
        },
        {
          "data": {
            "text/html": [
              "\n",
              "<link rel=\"stylesheet\" type=\"text/css\" href=\"https://cdn.jsdelivr.net/gh/bmabey/pyLDAvis@3.4.0/pyLDAvis/js/ldavis.v1.0.0.css\">\n",
              "\n",
              "\n",
              "<div id=\"ldavis_el3861339436176932644749577632\" style=\"background-color:white;\"></div>\n",
              "<script type=\"text/javascript\">\n",
              "\n",
              "var ldavis_el3861339436176932644749577632_data = {\"mdsDat\": {\"x\": [0.3618531389151641, 0.06292842301748548, -0.14825370154550194, -0.037410494283777976, -0.127509567711113, -0.11160779839225655], \"y\": [0.11319170001013183, -0.32542436127552804, 0.026660420361572477, 0.0722166173481743, 0.07387814043987945, 0.039477483115769874], \"topics\": [1, 2, 3, 4, 5, 6], \"cluster\": [1, 1, 1, 1, 1, 1], \"Freq\": [55.868965959561955, 19.587027719668818, 6.623116666449044, 6.308847696809594, 6.020815628389639, 5.591226329120953]}, \"tinfo\": {\"Term\": [\"product\", \"skin\", \"hair\", \"good\", \"oil\", \"dry\", \"face\", \"comb\", \"receive\", \"use\", \"feel\", \"buy\", \"fresh\", \"fragrance\", \"love\", \"lip\", \"baby\", \"start\", \"pure\", \"soap\", \"smooth\", \"smell\", \"forces_keep\", \"companies_reliable_write_ingredient\", \"harass_clear\", \"people_humiliate_constantly_message\", \"promote_spam\", \"asking_stop\", \"taken_permission\", \"spammers_harasser\", \"product\", \"good\", \"love\", \"smell\", \"work\", \"really\", \"natural\", \"order\", \"result\", \"nice\", \"amazing\", \"time\", \"great\", \"get\", \"give\", \"also\", \"shampoo\", \"try\", \"henna\", \"first\", \"thank\", \"quality\", \"not_habit\", \"see\", \"bad\", \"much\", \"excellent\", \"month\", \"fall\", \"color\", \"use\", \"hair\", \"make\", \"oil\", \"well\", \"feel\", \"skin\", \"face\", \"comb\", \"fresh\", \"lip\", \"start\", \"smooth\", \"keep\", \"cream\", \"malar\", \"moisturizer\", \"super\", \"come\", \"review\", \"know\", \"glow\", \"rise\", \"long\", \"dry\", \"suit\", \"last\", \"thank_not_habit\", \"water\", \"hand\", \"refreshing\", \"coconut\", \"effect\", \"add\", \"night\", \"aloe_very_gel\", \"sticky\", \"buy\", \"feel\", \"awesome\", \"soft\", \"apply\", \"well\", \"need\", \"day\", \"anything_enough\", \"asking_stop\", \"companies_reliable_write_ingredient\", \"forces_keep\", \"harass_clear\", \"people_humiliate_constantly_message\", \"promote_spam\", \"spammers_harasser\", \"taken_permission\", \"torture_order\", \"without_complete_ingredient_list\", \"absolutely\", \"want\", \"lip_balm\", \"break\", \"care\", \"gum\", \"summer\", \"prepare\", \"spoil\", \"dark_circle\", \"due\", \"expect\", \"moisture\", \"box\", \"hate\", \"cool\", \"spot\", \"send\", \"life\", \"buy\", \"baby\", \"worth\", \"strong\", \"damage\", \"serum\", \"frizzy\", \"return\", \"experiencing_hairball\", \"rough\", \"massage\", \"star\", \"powder\", \"absorb\", \"suggest\", \"waste_money\", \"far\", \"already\", \"balm\", \"not_habitat\", \"manageable\", \"silky\", \"request\", \"hydrate\", \"next\", \"doubt\", \"highly_recommende\", \"home\", \"turmeric\", \"blend\", \"hour\", \"oil\", \"hair\", \"totally\", \"wash\", \"guy\", \"receive\", \"soap\", \"open\", \"post\", \"truly\", \"package\", \"orange\", \"packaging\", \"packing\", \"different\", \"type\", \"favorite\", \"expire\", \"clean\", \"regularly\", \"poor\", \"disappointing\", \"buying\", \"difficult\", \"pleasant\", \"seal\", \"safe\", \"cap\", \"gift\", \"washing\", \"fill\", \"one\", \"form\", \"wish\", \"layer\", \"free\", \"quite\", \"leak\", \"fragrance\", \"seem\", \"little\", \"bottle\", \"gel\", \"remove\", \"small\", \"item\", \"second\", \"packet\", \"customer\", \"dandruff\", \"beautiful\", \"parcel\", \"lighten\", \"useful\", \"dark\", \"show\", \"consistency\", \"arrive\", \"intentionally\", \"tamper\", \"exactly\", \"amount\", \"response\", \"message\", \"regard\", \"odor\", \"overnight\", \"light_skin_tone\", \"ok_hand_medium\", \"private\", \"underarm\", \"pure\", \"overall\", \"help\", \"ill\", \"need\", \"free\", \"leak\"], \"Freq\": [802.0, 258.0, 459.0, 463.0, 174.0, 108.0, 97.0, 93.0, 50.0, 439.0, 166.0, 74.0, 70.0, 59.0, 198.0, 63.0, 35.0, 53.0, 28.0, 24.0, 44.0, 140.0, 24.0, 24.0, 24.0, 24.0, 24.0, 24.0, 24.0, 24.0, 802.145120568145, 462.65619391042446, 197.84165094541936, 140.20003070876217, 128.78674800713944, 126.79331932369749, 122.85438199472945, 119.61532330419163, 118.18006662380922, 117.55183525927895, 115.2344225582134, 113.70814773503028, 104.3335201232101, 103.67717190090198, 95.98841678191644, 91.88863473165091, 80.52040384915834, 77.22197718659459, 75.3326108061702, 71.24644655987868, 70.11706670722035, 68.52282341249294, 66.48681622901866, 63.134683208901706, 62.38976937869663, 60.850450395296654, 58.04637163255159, 57.692653746849196, 53.27801194016977, 50.95379449395602, 420.1565075421365, 426.79285083605316, 116.27687459746981, 130.1789398373476, 99.22927122682447, 82.32173669705473, 258.19609336786414, 96.42270220123942, 92.3583072732616, 69.82977892968037, 62.75514188571862, 52.65174866969478, 43.68809496948706, 37.95992121768634, 36.69470175410252, 35.73726098472972, 30.431733520030463, 29.121065429805167, 28.04531191415965, 27.184076032849134, 26.72955187557659, 25.236092457756012, 24.363970241519187, 22.94654611666315, 105.7955072137939, 22.09828348214165, 22.39520353089942, 21.14083105404337, 20.905536113544475, 20.78132842419586, 19.158860836806156, 16.254007769889256, 16.061067521754914, 16.125633543518646, 15.907108222296456, 15.781300372874338, 29.43756776536411, 53.636706945905395, 83.73371262775464, 39.62030152302891, 36.3064079016574, 34.29454325492309, 29.51216320573063, 21.77632486305338, 21.41664735232352, 23.590239808677147, 23.590239808677147, 23.590239808677147, 23.590239808677147, 23.590239808677147, 23.590239808677147, 23.590239808677147, 23.590239808677147, 23.590239808677147, 23.590239808677147, 23.590239808677147, 12.464283552372393, 12.028221624424832, 11.626894923788404, 11.347878720818711, 10.727530071329904, 9.496943676250398, 9.359636832573955, 8.230579819638855, 8.189813924528469, 7.783127232581986, 7.369622899762596, 7.317691054197622, 6.891257103653377, 6.669092683109885, 6.291802909578532, 5.808954767146223, 5.5631097009831, 5.453961414210142, 5.577724140836214, 20.517417944885512, 34.326788950933114, 19.52885424579188, 17.484981930011916, 17.20387548576571, 16.83388168026848, 13.093303019177158, 12.457313677174334, 11.796627351453052, 10.567228832176728, 9.904184243517797, 9.787899912796444, 9.308767914110259, 9.13287454468425, 8.119015812875297, 7.654756736398397, 7.489235687062607, 7.42955811603532, 7.162933114840361, 6.768087893199016, 6.32920877666953, 6.195562767748562, 6.287806804610091, 6.042999960183626, 6.114081591336354, 6.033796914173362, 5.758060399864802, 5.650535063255025, 5.474162436970072, 5.545349683003566, 5.2570210585108095, 39.9375846550517, 32.539680022881335, 5.952669195562118, 7.3954792451085005, 5.997872364530213, 49.436122226607914, 24.069043747475106, 19.13975685400497, 19.19212083656051, 17.19527609809755, 15.316639605372758, 14.362663816071432, 13.265254651359232, 11.665327395491708, 10.05941617084123, 9.346040902693792, 8.791933815208, 8.439476351610207, 8.38434481709022, 7.658441650231593, 7.476169817752801, 6.5649096564893314, 6.481214279963998, 6.277094107503012, 6.165082615783007, 6.04571457852073, 5.770168450180937, 5.578307843050319, 5.625218699988634, 5.398584057767024, 5.397141149887858, 5.27212153677847, 5.17342412921763, 5.064113442093554, 4.505031659793068, 11.285445274842532, 7.763388224173791, 7.878374677466456, 15.70509674701634, 6.9479042651684475, 20.73631804319661, 20.609476141025322, 19.587079756630693, 17.84150015598781, 17.213019880158473, 16.995756571615534, 12.29559149762215, 10.195707882465708, 8.824471306738316, 8.274238436857088, 8.09854161868866, 7.841168672883675, 6.859156073723996, 6.74604403452355, 6.707683702612139, 6.391706739527696, 6.021880708071706, 5.86169342666485, 5.376006388170839, 5.376006388170839, 5.283356853509529, 5.192226156858963, 4.977750920720294, 4.801509966666343, 4.945621111100555, 4.744443507668919, 4.241934017386795, 4.018928161623837, 4.018928161623837, 4.018928161623837, 10.229539988754842, 20.242234339019546, 9.106146492727236, 11.612253338801697, 6.196184322050054, 7.297782430222603, 5.809269594947591, 5.18091120888466], \"Total\": [802.0, 258.0, 459.0, 463.0, 174.0, 108.0, 97.0, 93.0, 50.0, 439.0, 166.0, 74.0, 70.0, 59.0, 198.0, 63.0, 35.0, 53.0, 28.0, 24.0, 44.0, 140.0, 24.0, 24.0, 24.0, 24.0, 24.0, 24.0, 24.0, 24.0, 802.7993399642608, 463.31061067557016, 198.49397955544467, 140.86668205933097, 129.4387644061904, 127.44484910014259, 123.506897830744, 120.27012219297931, 118.83225260595951, 118.2034092719619, 115.88582308227673, 114.3626244408312, 104.98471804415873, 104.33407473785508, 96.64149569047424, 92.54157803808637, 81.18802784257954, 77.87579157568317, 75.98281213241522, 71.89808852986171, 70.76858673877712, 69.17595735024352, 67.13923144631478, 63.786833422554146, 63.0444270478588, 61.50254959313009, 58.69728593972783, 58.34530874150213, 53.929456489786396, 51.60442934855141, 439.14416673655285, 459.8488061497432, 120.96116366422773, 174.14082937395358, 129.2268043825994, 166.54000026260223, 258.8540630466457, 97.08154471970387, 93.01701824804631, 70.48659457520674, 63.411398318061266, 53.31493955809171, 44.34875502532662, 38.618333735248, 37.351166448597965, 36.39460613896163, 31.088036374409434, 29.77836473001251, 28.70730103163862, 27.845630043680448, 27.392455849422326, 25.892701323969515, 25.022884778369825, 23.604995263901273, 108.85183378557377, 22.756345445073496, 23.068511616113952, 21.80052691000539, 21.56403075941058, 21.437107221928272, 19.81616512339484, 16.920955230634416, 16.721313298704857, 16.789826847286854, 16.566966086317674, 16.438728041340003, 31.705422631333516, 74.72186925274164, 166.54000026260223, 84.82544125244137, 88.20876667574403, 91.64592181729618, 129.2268043825994, 63.501383424343985, 62.13123653108468, 24.305200661404104, 24.305200661404104, 24.305200661404104, 24.305200661404104, 24.305200661404104, 24.305200661404104, 24.305200661404104, 24.305200661404104, 24.305200661404104, 24.305200661404104, 24.305200661404104, 13.18523321900777, 12.754634131797546, 12.345510528265367, 12.06681990979706, 11.445121943870618, 10.21429969158374, 10.094373782518938, 8.961208688210583, 8.92180239147352, 8.499812935470493, 8.08933798341155, 8.03866820690955, 7.611706552589057, 7.389545449282027, 7.019036268708496, 6.527409494702148, 6.2916602548818945, 6.1744750128094195, 6.3170640137827005, 74.72186925274164, 35.01809351181174, 20.22166074639447, 18.17670953509393, 17.904392394700935, 17.52606909243285, 13.786448477730495, 13.151122581953967, 12.496501571925782, 11.26010868571316, 10.595078163339958, 10.479429973534238, 9.997516624338497, 9.824138664560962, 8.813307090323878, 8.343836095724855, 8.178400130309836, 8.127679508307562, 7.8558769617452615, 7.472356332775367, 7.019381432309849, 6.8856586159836075, 6.988925793672326, 6.741185662802303, 6.821239607336969, 6.75250566163496, 6.450521457714813, 6.345771444229391, 6.168209650060013, 6.253718504719892, 5.948489176494718, 174.14082937395358, 459.8488061497432, 9.872224979742871, 71.96246597188748, 19.827123225929014, 50.14908894935483, 24.77129180561958, 19.84714046670461, 19.90221847426891, 17.90338138621122, 16.02169860313285, 15.067082710159761, 13.96915574496635, 12.36771708273154, 10.768253448650967, 10.058439977536471, 9.503128388501771, 9.14217246269041, 9.095528935804342, 8.367457660093038, 8.182731722207592, 7.271262297611693, 7.198884893259791, 6.987822363022305, 6.875802460089663, 6.751456512054182, 6.481869307169801, 6.27979518904313, 6.335210863644598, 6.10617082124958, 6.109813236450724, 5.980567630006084, 5.876543976373452, 5.769754608295932, 5.218065985738882, 17.68244803547813, 10.8686099552177, 13.644479669621404, 59.050868133118705, 23.720157303892826, 21.445855832637108, 21.315995917088962, 20.296054404025682, 18.55848473000927, 17.91806894157312, 17.709466506673245, 13.005676216391832, 10.900365203137277, 9.535347833619998, 8.980421887280434, 8.80258416342026, 8.548847550433912, 7.565784297579735, 7.45476414735996, 7.414647247952809, 7.0963820182379, 6.7278330650764655, 6.5664540847221335, 6.082920182369669, 6.082920182369669, 5.991804597037767, 5.901952911894408, 5.68248725033109, 5.505578277007996, 5.670878666992282, 5.467263702418514, 4.946805110527508, 4.7234424988912025, 4.7234424988912025, 4.7234424988912025, 12.566679983054675, 28.787189263168656, 14.98496737392108, 30.32660683800495, 14.455584879936566, 63.501383424343985, 17.68244803547813, 13.644479669621404], \"Category\": [\"Default\", \"Default\", \"Default\", \"Default\", \"Default\", \"Default\", \"Default\", \"Default\", \"Default\", \"Default\", \"Default\", \"Default\", \"Default\", \"Default\", \"Default\", \"Default\", \"Default\", \"Default\", \"Default\", \"Default\", \"Default\", \"Default\", \"Default\", \"Default\", \"Default\", \"Default\", \"Default\", \"Default\", \"Default\", \"Default\", \"Topic1\", \"Topic1\", \"Topic1\", \"Topic1\", \"Topic1\", \"Topic1\", \"Topic1\", \"Topic1\", \"Topic1\", \"Topic1\", \"Topic1\", \"Topic1\", \"Topic1\", \"Topic1\", \"Topic1\", \"Topic1\", \"Topic1\", \"Topic1\", \"Topic1\", \"Topic1\", \"Topic1\", \"Topic1\", \"Topic1\", \"Topic1\", \"Topic1\", \"Topic1\", \"Topic1\", \"Topic1\", \"Topic1\", \"Topic1\", \"Topic1\", \"Topic1\", \"Topic1\", \"Topic1\", \"Topic1\", \"Topic1\", \"Topic2\", \"Topic2\", \"Topic2\", \"Topic2\", \"Topic2\", \"Topic2\", \"Topic2\", \"Topic2\", \"Topic2\", \"Topic2\", \"Topic2\", \"Topic2\", \"Topic2\", \"Topic2\", \"Topic2\", \"Topic2\", \"Topic2\", \"Topic2\", \"Topic2\", \"Topic2\", \"Topic2\", \"Topic2\", \"Topic2\", \"Topic2\", \"Topic2\", \"Topic2\", \"Topic2\", \"Topic2\", \"Topic2\", \"Topic2\", \"Topic2\", \"Topic2\", \"Topic2\", \"Topic2\", \"Topic2\", \"Topic2\", \"Topic2\", \"Topic2\", \"Topic2\", \"Topic3\", \"Topic3\", \"Topic3\", \"Topic3\", \"Topic3\", \"Topic3\", \"Topic3\", \"Topic3\", \"Topic3\", \"Topic3\", \"Topic3\", \"Topic3\", \"Topic3\", \"Topic3\", \"Topic3\", \"Topic3\", \"Topic3\", \"Topic3\", \"Topic3\", \"Topic3\", \"Topic3\", \"Topic3\", \"Topic3\", \"Topic3\", \"Topic3\", \"Topic3\", \"Topic3\", \"Topic3\", \"Topic3\", \"Topic3\", \"Topic3\", \"Topic4\", \"Topic4\", \"Topic4\", \"Topic4\", \"Topic4\", \"Topic4\", \"Topic4\", \"Topic4\", \"Topic4\", \"Topic4\", \"Topic4\", \"Topic4\", \"Topic4\", \"Topic4\", \"Topic4\", \"Topic4\", \"Topic4\", \"Topic4\", \"Topic4\", \"Topic4\", \"Topic4\", \"Topic4\", \"Topic4\", \"Topic4\", \"Topic4\", \"Topic4\", \"Topic4\", \"Topic4\", \"Topic4\", \"Topic4\", \"Topic4\", \"Topic4\", \"Topic4\", \"Topic4\", \"Topic4\", \"Topic5\", \"Topic5\", \"Topic5\", \"Topic5\", \"Topic5\", \"Topic5\", \"Topic5\", \"Topic5\", \"Topic5\", \"Topic5\", \"Topic5\", \"Topic5\", \"Topic5\", \"Topic5\", \"Topic5\", \"Topic5\", \"Topic5\", \"Topic5\", \"Topic5\", \"Topic5\", \"Topic5\", \"Topic5\", \"Topic5\", \"Topic5\", \"Topic5\", \"Topic5\", \"Topic5\", \"Topic5\", \"Topic5\", \"Topic5\", \"Topic5\", \"Topic5\", \"Topic5\", \"Topic5\", \"Topic5\", \"Topic6\", \"Topic6\", \"Topic6\", \"Topic6\", \"Topic6\", \"Topic6\", \"Topic6\", \"Topic6\", \"Topic6\", \"Topic6\", \"Topic6\", \"Topic6\", \"Topic6\", \"Topic6\", \"Topic6\", \"Topic6\", \"Topic6\", \"Topic6\", \"Topic6\", \"Topic6\", \"Topic6\", \"Topic6\", \"Topic6\", \"Topic6\", \"Topic6\", \"Topic6\", \"Topic6\", \"Topic6\", \"Topic6\", \"Topic6\", \"Topic6\", \"Topic6\", \"Topic6\", \"Topic6\", \"Topic6\", \"Topic6\", \"Topic6\", \"Topic6\"], \"logprob\": [30.0, 29.0, 28.0, 27.0, 26.0, 25.0, 24.0, 23.0, 22.0, 21.0, 20.0, 19.0, 18.0, 17.0, 16.0, 15.0, 14.0, 13.0, 12.0, 11.0, 10.0, 9.0, 8.0, 7.0, 6.0, 5.0, 4.0, 3.0, 2.0, 1.0, -2.4095, -2.9598, -3.8093, -4.1537, -4.2386, -4.2542, -4.2858, -4.3125, -4.3246, -4.3299, -4.3498, -4.3632, -4.4492, -4.4555, -4.5326, -4.5762, -4.7083, -4.7501, -4.7749, -4.8307, -4.8466, -4.8696, -4.8998, -4.9515, -4.9634, -4.9884, -5.0356, -5.0417, -5.1213, -5.1659, -3.0562, -3.0405, -4.3408, -4.2279, -4.4994, -4.6862, -2.4949, -3.4799, -3.523, -3.8026, -3.9094, -4.085, -4.2716, -4.4121, -4.446, -4.4725, -4.6332, -4.6772, -4.7148, -4.746, -4.7629, -4.8204, -4.8556, -4.9155, -3.3872, -4.9532, -4.9398, -4.9975, -5.0087, -5.0146, -5.0959, -5.2603, -5.2723, -5.2683, -5.2819, -5.2898, -4.6664, -4.0664, -3.621, -4.3693, -4.4567, -4.5137, -4.6639, -4.9678, -4.9845, -3.8035, -3.8035, -3.8035, -3.8035, -3.8035, -3.8035, -3.8035, -3.8035, -3.8035, -3.8035, -3.8035, -4.4415, -4.4771, -4.511, -4.5353, -4.5916, -4.7134, -4.728, -4.8565, -4.8615, -4.9124, -4.967, -4.9741, -5.0341, -5.0669, -5.1251, -5.205, -5.2482, -5.268, -5.2456, -3.9431, -3.3798, -3.9439, -4.0544, -4.0706, -4.0924, -4.3437, -4.3934, -4.4479, -4.558, -4.6228, -4.6346, -4.6848, -4.7039, -4.8215, -4.8804, -4.9023, -4.9103, -4.9468, -5.0035, -5.0706, -5.0919, -5.0771, -5.1169, -5.1052, -5.1184, -5.1652, -5.184, -5.2157, -5.2028, -5.2562, -3.2284, -3.4333, -5.1319, -4.9149, -5.1243, -2.9683, -3.6881, -3.9173, -3.9145, -4.0244, -4.1401, -4.2044, -4.2839, -4.4124, -4.5605, -4.6341, -4.6952, -4.7361, -4.7427, -4.8332, -4.8573, -4.9873, -5.0001, -5.0321, -5.0501, -5.0697, -5.1163, -5.1501, -5.1418, -5.1829, -5.1832, -5.2066, -5.2255, -5.2468, -5.3638, -4.4455, -4.8196, -4.8049, -4.115, -4.9306, -3.7631, -3.7692, -3.8201, -3.9135, -3.9493, -3.962, -4.2858, -4.473, -4.6175, -4.6818, -4.7033, -4.7356, -4.8694, -4.886, -4.8917, -4.94, -4.9996, -5.0266, -5.1131, -5.1131, -5.1304, -5.1478, -5.19, -5.2261, -5.1965, -5.238, -5.35, -5.404, -5.404, -5.404, -4.4697, -3.7872, -4.586, -4.3429, -4.9711, -4.8074, -5.0355, -5.15], \"loglift\": [30.0, 29.0, 28.0, 27.0, 26.0, 25.0, 24.0, 23.0, 22.0, 21.0, 20.0, 19.0, 18.0, 17.0, 16.0, 15.0, 14.0, 13.0, 12.0, 11.0, 10.0, 9.0, 8.0, 7.0, 6.0, 5.0, 4.0, 3.0, 2.0, 1.0, 0.5813, 0.5807, 0.5789, 0.5774, 0.5771, 0.577, 0.5769, 0.5767, 0.5767, 0.5766, 0.5765, 0.5764, 0.5759, 0.5758, 0.5754, 0.5751, 0.5739, 0.5737, 0.5736, 0.5731, 0.5729, 0.5727, 0.5724, 0.5719, 0.5717, 0.5715, 0.571, 0.5709, 0.57, 0.5695, 0.538, 0.5076, 0.5427, 0.2912, 0.318, -0.1224, 1.6278, 1.6235, 1.6232, 1.6209, 1.6199, 1.6178, 1.6153, 1.6131, 1.6126, 1.6121, 1.609, 1.608, 1.607, 1.6063, 1.6058, 1.6046, 1.6036, 1.602, 1.6018, 1.601, 1.6007, 1.5996, 1.5993, 1.5992, 1.5966, 1.5901, 1.59, 1.5899, 1.5897, 1.5895, 1.5561, 1.2988, 0.9427, 0.869, 0.7426, 0.6474, 0.1535, 0.5601, 0.5652, 2.6847, 2.6847, 2.6847, 2.6847, 2.6847, 2.6847, 2.6847, 2.6847, 2.6847, 2.6847, 2.6847, 2.6584, 2.656, 2.6546, 2.6532, 2.6499, 2.6418, 2.639, 2.6296, 2.629, 2.6265, 2.6214, 2.6206, 2.6152, 2.612, 2.6052, 2.598, 2.5915, 2.5905, 2.5901, 1.4221, 2.7433, 2.7284, 2.7244, 2.7233, 2.7229, 2.7116, 2.709, 2.7056, 2.6997, 2.6958, 2.6949, 2.6918, 2.6903, 2.6812, 2.677, 2.6752, 2.6734, 2.6709, 2.6642, 2.6597, 2.6576, 2.6575, 2.6539, 2.6538, 2.6507, 2.6497, 2.6472, 2.6438, 2.643, 2.6396, 1.2907, 0.1148, 2.2573, 0.4879, 1.5676, 2.7956, 2.7812, 2.7737, 2.7736, 2.7696, 2.7649, 2.7621, 2.7582, 2.7515, 2.7419, 2.7365, 2.7322, 2.73, 2.7285, 2.7214, 2.7196, 2.7078, 2.7049, 2.7027, 2.7008, 2.6995, 2.6936, 2.6915, 2.6911, 2.6868, 2.6859, 2.6839, 2.6825, 2.6795, 2.663, 2.3609, 2.4735, 2.2607, 1.4855, 1.5821, 2.8503, 2.8503, 2.8484, 2.8446, 2.8438, 2.8428, 2.8278, 2.8171, 2.8065, 2.8021, 2.8006, 2.7976, 2.7859, 2.7841, 2.7838, 2.7794, 2.7731, 2.7704, 2.7604, 2.7604, 2.7581, 2.7559, 2.7516, 2.7471, 2.7471, 2.7422, 2.7302, 2.7224, 2.7224, 2.7224, 2.6782, 2.5318, 2.3859, 1.924, 2.0368, 0.7205, 1.7709, 1.9156]}, \"token.table\": {\"Topic\": [3, 4, 2, 2, 4, 1, 1, 6, 3, 1, 2, 6, 3, 1, 2, 4, 1, 4, 6, 4, 6, 3, 3, 2, 3, 5, 5, 3, 5, 2, 1, 2, 2, 3, 6, 3, 2, 6, 4, 6, 6, 3, 1, 2, 5, 5, 5, 4, 1, 2, 4, 3, 2, 6, 1, 3, 4, 5, 2, 1, 4, 5, 1, 2, 5, 1, 3, 5, 1, 5, 5, 6, 2, 4, 6, 1, 5, 1, 2, 1, 1, 3, 2, 4, 1, 4, 2, 3, 3, 1, 6, 1, 4, 4, 4, 4, 2, 6, 6, 6, 2, 2, 2, 5, 5, 6, 3, 6, 6, 2, 3, 6, 2, 1, 1, 2, 2, 4, 4, 6, 3, 2, 1, 1, 1, 1, 2, 6, 4, 1, 2, 1, 4, 6, 1, 4, 6, 6, 5, 5, 5, 1, 5, 6, 6, 5, 5, 6, 5, 6, 3, 5, 5, 5, 4, 3, 6, 1, 3, 2, 6, 1, 5, 6, 1, 5, 2, 6, 5, 6, 4, 6, 1, 4, 2, 2, 4, 5, 5, 6, 1, 1, 5, 3, 4, 1, 6, 4, 2, 6, 1, 2, 5, 1, 2, 3, 3, 3, 4, 2, 2, 4, 4, 4, 2, 3, 2, 3, 6, 1, 2, 1, 3, 3, 4, 5, 1, 4, 5, 1, 6, 1, 2, 6, 3, 1, 2, 4, 5, 4, 2, 1, 2, 5, 3, 1, 4], \"Freq\": [0.9101090440099957, 0.9161108477088263, 0.9529580111533738, 0.9733113145836654, 0.8612544321961854, 0.9941477328400053, 0.9923560703223567, 0.847177209754305, 0.9874429894385216, 0.6219589357574936, 0.37099304939920674, 0.913735163999688, 0.9874429894385216, 0.5305012191575821, 0.4715566392511841, 0.9709266436372861, 0.983433475459045, 0.8910526519301392, 0.9088240284307132, 0.959429177292134, 0.9851756437598288, 0.9472842474607318, 0.9115906330108642, 0.7226799936889784, 0.28104221976793603, 0.8334624166053427, 0.9554451728726263, 0.9611081519224004, 0.8795530261586199, 0.9455730945397763, 0.9882872583578258, 0.9890663206883901, 0.9753616325387365, 0.9874429894385216, 0.8918176093199195, 0.9192007954870596, 0.9905982468022455, 0.9438564965892011, 0.9494876801868684, 0.8908267451589251, 0.9440772791898774, 0.9411971840715779, 0.6437985501863902, 0.33799423884785484, 0.9286557051879929, 0.8586365949641769, 0.9626939193624205, 0.8885590476568724, 0.009186799755435364, 0.9738007740761485, 0.01837359951087073, 0.8653365719610916, 0.9568626407615528, 0.8344731406080739, 0.9881206442757197, 0.8707910091354717, 0.9602687544935612, 0.8750655309389902, 0.9888594199564239, 0.9827653280733059, 0.8559131234063021, 0.9470565514919774, 0.492374203618959, 0.5043833305364946, 0.8183556201309633, 0.9875088677845907, 0.9874429894385216, 0.8508402251565576, 0.7281857381514673, 0.27095283280054594, 0.6220858094947915, 0.3393195324517045, 0.9930966366280107, 0.9429549619685693, 0.9854132040576833, 0.9967980284610329, 0.947087654876928, 0.9933621092483002, 0.9655230517356982, 0.9993295843686436, 0.9906203677782462, 0.8811176753914628, 0.6556674839746388, 0.30261576183444866, 0.9285660727820908, 0.07176271756863933, 0.9796097851541672, 0.9874429894385216, 0.8548182072727772, 0.5935382120443033, 0.39569214136286884, 0.9870653361617826, 0.9301573584913837, 0.945511519400242, 0.8405495667298774, 0.8900511423543566, 0.5534193231505625, 0.41506449236292187, 0.8219736327449548, 0.9599385726043241, 0.9839885962069971, 0.9856728490654626, 0.9536809468293754, 0.9582094235038686, 0.586317704574071, 0.3664485653587944, 0.9498083266069611, 0.8468399903119334, 0.9252180242885424, 0.993512233936275, 0.972013265269645, 0.9792101636737394, 0.9743700323962157, 0.9975113625282187, 0.9589854833242241, 0.033068464942214625, 0.989157565342102, 0.8547761733508754, 0.9438344716135282, 0.908169814037636, 0.9196360831355236, 0.965001444243514, 0.9940816365711249, 0.9918288006520916, 0.9958957933552938, 0.535421406062875, 0.34644914509950736, 0.11023381889529779, 0.8796055182618656, 0.998279159008909, 0.9657773135187426, 0.9830318068620473, 0.9367861606514253, 0.914534266526816, 0.7465222284019065, 0.22969914720058662, 0.02296991472005866, 0.8468399903119334, 0.8360410431467545, 0.9573167495778163, 0.929177881963824, 0.9977540374279666, 0.3336677268114506, 0.6006019082606112, 0.8086027063179482, 0.9362303193661956, 0.9306217381594033, 0.9174004552729904, 0.9702679904244441, 0.9357986503799504, 0.9874429894385216, 0.8726254186077589, 0.8554600392192124, 0.9546674419519932, 0.9002235593277147, 0.8927367142475819, 0.8468399903119334, 0.9990043091411904, 0.9874429894385216, 0.2779013931115353, 0.6947534827788382, 0.9974563799767506, 0.736064688397382, 0.27602425814901826, 0.9965094776031863, 0.977086543874899, 0.9588131649937011, 0.8816975805006771, 0.9560849095364348, 0.9699067710465503, 0.8585010310786694, 0.8798963868697945, 0.9929964080650797, 0.9124696333122511, 0.969631499005268, 0.9591220281982027, 0.9768999844519097, 0.9256588980223976, 0.8886971262108381, 0.9226740540315529, 0.9876646420532935, 0.6745317830322384, 0.2951076550766043, 0.809785445665764, 0.9699836232723751, 0.9976840447098416, 0.8455012687563652, 0.8713763395228835, 0.9967006001891815, 0.9487629529405908, 0.9938475014342573, 0.9921360808183353, 0.9688634806907969, 0.5781738246888353, 0.40812269978035426, 0.9874429894385216, 0.8966798017904457, 0.9536433559559122, 0.9542503767146652, 0.9940928460071018, 0.9146700341202887, 0.06308069200829577, 0.9352627859942391, 0.9077182853168924, 0.9667633167681045, 0.891585767864656, 0.9738614011524943, 0.9874429894385216, 0.8219736327449548, 0.9891394363771295, 0.9632794696518098, 0.9968291699967168, 0.9874429894385216, 0.30388286390917896, 0.6077657278183579, 0.9495412979970933, 0.9887539945602731, 0.8106079857307303, 0.8947709605167117, 0.159151024988053, 0.795755124940265, 0.9564057360050563, 0.04326597377165731, 0.9389968430428466, 0.9408345136364022, 0.722598917334407, 0.16675359630794007, 0.09727293117963172, 0.8188437805571888, 0.9587916047510776, 0.9738439086039405, 0.7660949326495186, 0.23214997959076322, 0.8665879815427238, 0.9874429894385216, 0.9966102549865703, 0.9890384499485785], \"Term\": [\"absolutely\", \"absorb\", \"add\", \"aloe_very_gel\", \"already\", \"also\", \"amazing\", \"amount\", \"anything_enough\", \"apply\", \"apply\", \"arrive\", \"asking_stop\", \"awesome\", \"awesome\", \"baby\", \"bad\", \"balm\", \"beautiful\", \"blend\", \"bottle\", \"box\", \"break\", \"buy\", \"buy\", \"buying\", \"cap\", \"care\", \"clean\", \"coconut\", \"color\", \"comb\", \"come\", \"companies_reliable_write_ingredient\", \"consistency\", \"cool\", \"cream\", \"customer\", \"damage\", \"dandruff\", \"dark\", \"dark_circle\", \"day\", \"day\", \"different\", \"difficult\", \"disappointing\", \"doubt\", \"dry\", \"dry\", \"dry\", \"due\", \"effect\", \"exactly\", \"excellent\", \"expect\", \"experiencing_hairball\", \"expire\", \"face\", \"fall\", \"far\", \"favorite\", \"feel\", \"feel\", \"fill\", \"first\", \"forces_keep\", \"form\", \"fragrance\", \"fragrance\", \"free\", \"free\", \"fresh\", \"frizzy\", \"gel\", \"get\", \"gift\", \"give\", \"glow\", \"good\", \"great\", \"gum\", \"guy\", \"guy\", \"hair\", \"hair\", \"hand\", \"harass_clear\", \"hate\", \"help\", \"help\", \"henna\", \"highly_recommende\", \"home\", \"hour\", \"hydrate\", \"ill\", \"ill\", \"intentionally\", \"item\", \"keep\", \"know\", \"last\", \"layer\", \"leak\", \"leak\", \"life\", \"light_skin_tone\", \"lighten\", \"lip\", \"lip_balm\", \"little\", \"long\", \"love\", \"make\", \"make\", \"malar\", \"manageable\", \"massage\", \"message\", \"moisture\", \"moisturizer\", \"month\", \"much\", \"natural\", \"need\", \"need\", \"need\", \"next\", \"nice\", \"night\", \"not_habit\", \"not_habitat\", \"odor\", \"oil\", \"oil\", \"oil\", \"ok_hand_medium\", \"one\", \"open\", \"orange\", \"order\", \"overall\", \"overall\", \"overnight\", \"package\", \"packaging\", \"packet\", \"packing\", \"parcel\", \"people_humiliate_constantly_message\", \"pleasant\", \"poor\", \"post\", \"powder\", \"prepare\", \"private\", \"product\", \"promote_spam\", \"pure\", \"pure\", \"quality\", \"quite\", \"quite\", \"really\", \"receive\", \"refreshing\", \"regard\", \"regularly\", \"remove\", \"request\", \"response\", \"result\", \"return\", \"review\", \"rise\", \"rough\", \"safe\", \"seal\", \"second\", \"see\", \"seem\", \"seem\", \"send\", \"serum\", \"shampoo\", \"show\", \"silky\", \"skin\", \"small\", \"smell\", \"smooth\", \"soap\", \"soft\", \"soft\", \"spammers_harasser\", \"spoil\", \"spot\", \"star\", \"start\", \"sticky\", \"sticky\", \"strong\", \"suggest\", \"suit\", \"summer\", \"super\", \"taken_permission\", \"tamper\", \"thank\", \"thank_not_habit\", \"time\", \"torture_order\", \"totally\", \"totally\", \"truly\", \"try\", \"turmeric\", \"type\", \"underarm\", \"underarm\", \"use\", \"use\", \"useful\", \"want\", \"wash\", \"wash\", \"wash\", \"washing\", \"waste_money\", \"water\", \"well\", \"well\", \"wish\", \"without_complete_ingredient_list\", \"work\", \"worth\"]}, \"R\": 30, \"lambda.step\": 0.01, \"plot.opts\": {\"xlab\": \"PC1\", \"ylab\": \"PC2\"}, \"topic.order\": [1, 4, 2, 6, 5, 3]};\n",
              "\n",
              "function LDAvis_load_lib(url, callback){\n",
              "  var s = document.createElement('script');\n",
              "  s.src = url;\n",
              "  s.async = true;\n",
              "  s.onreadystatechange = s.onload = callback;\n",
              "  s.onerror = function(){console.warn(\"failed to load library \" + url);};\n",
              "  document.getElementsByTagName(\"head\")[0].appendChild(s);\n",
              "}\n",
              "\n",
              "if(typeof(LDAvis) !== \"undefined\"){\n",
              "   // already loaded: just create the visualization\n",
              "   !function(LDAvis){\n",
              "       new LDAvis(\"#\" + \"ldavis_el3861339436176932644749577632\", ldavis_el3861339436176932644749577632_data);\n",
              "   }(LDAvis);\n",
              "}else if(typeof define === \"function\" && define.amd){\n",
              "   // require.js is available: use it to load d3/LDAvis\n",
              "   require.config({paths: {d3: \"https://d3js.org/d3.v5\"}});\n",
              "   require([\"d3\"], function(d3){\n",
              "      window.d3 = d3;\n",
              "      LDAvis_load_lib(\"https://cdn.jsdelivr.net/gh/bmabey/pyLDAvis@3.4.0/pyLDAvis/js/ldavis.v3.0.0.js\", function(){\n",
              "        new LDAvis(\"#\" + \"ldavis_el3861339436176932644749577632\", ldavis_el3861339436176932644749577632_data);\n",
              "      });\n",
              "    });\n",
              "}else{\n",
              "    // require.js not available: dynamically load d3 & LDAvis\n",
              "    LDAvis_load_lib(\"https://d3js.org/d3.v5.js\", function(){\n",
              "         LDAvis_load_lib(\"https://cdn.jsdelivr.net/gh/bmabey/pyLDAvis@3.4.0/pyLDAvis/js/ldavis.v3.0.0.js\", function(){\n",
              "                 new LDAvis(\"#\" + \"ldavis_el3861339436176932644749577632\", ldavis_el3861339436176932644749577632_data);\n",
              "            })\n",
              "         });\n",
              "}\n",
              "</script>"
            ],
            "text/plain": [
              "PreparedData(topic_coordinates=              x         y  topics  cluster       Freq\n",
              "topic                                                \n",
              "0      0.361853  0.113192       1        1  55.868966\n",
              "3      0.062928 -0.325424       2        1  19.587028\n",
              "1     -0.148254  0.026660       3        1   6.623117\n",
              "5     -0.037410  0.072217       4        1   6.308848\n",
              "4     -0.127510  0.073878       5        1   6.020816\n",
              "2     -0.111608  0.039477       6        1   5.591226, topic_info=         Term        Freq       Total Category  logprob  loglift\n",
              "3     product  802.000000  802.000000  Default  30.0000  30.0000\n",
              "18       skin  258.000000  258.000000  Default  29.0000  29.0000\n",
              "59       hair  459.000000  459.000000  Default  28.0000  28.0000\n",
              "119      good  463.000000  463.000000  Default  27.0000  27.0000\n",
              "72        oil  174.000000  174.000000  Default  26.0000  26.0000\n",
              "...       ...         ...         ...      ...      ...      ...\n",
              "874      help   11.612253   30.326607   Topic6  -4.3429   1.9240\n",
              "1282      ill    6.196184   14.455585   Topic6  -4.9711   2.0368\n",
              "245      need    7.297782   63.501383   Topic6  -4.8074   0.7205\n",
              "871      free    5.809270   17.682448   Topic6  -5.0355   1.7709\n",
              "1503     leak    5.180911   13.644480   Topic6  -5.1500   1.9156\n",
              "\n",
              "[244 rows x 6 columns], token_table=      Topic      Freq                              Term\n",
              "term                                                   \n",
              "778       3  0.910109                        absolutely\n",
              "1124      4  0.916111                            absorb\n",
              "77        2  0.952958                               add\n",
              "1538      2  0.973311                     aloe_very_gel\n",
              "555       4  0.861254                           already\n",
              "...     ...       ...                               ...\n",
              "105       2  0.232150                              well\n",
              "439       5  0.866588                              wish\n",
              "2101      3  0.987443  without_complete_ingredient_list\n",
              "9         1  0.996610                              work\n",
              "319       4  0.989038                             worth\n",
              "\n",
              "[237 rows x 3 columns], R=30, lambda_step=0.01, plot_opts={'xlab': 'PC1', 'ylab': 'PC2'}, topic_order=[1, 4, 2, 6, 5, 3])"
            ]
          },
          "execution_count": 60,
          "metadata": {},
          "output_type": "execute_result"
        }
      ],
      "source": [
        "vis2"
      ]
    }
  ],
  "metadata": {
    "colab": {
      "provenance": []
    },
    "kernelspec": {
      "display_name": "Python 3",
      "name": "python3"
    },
    "language_info": {
      "name": "python"
    }
  },
  "nbformat": 4,
  "nbformat_minor": 0
}